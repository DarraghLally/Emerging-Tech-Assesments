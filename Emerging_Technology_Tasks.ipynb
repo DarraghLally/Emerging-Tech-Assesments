{
 "cells": [
  {
   "cell_type": "markdown",
   "metadata": {},
   "source": [
    "***\n",
    "\n",
    "\n",
    "# Emerging Technology Tasks\n",
    "\n",
    "\n",
    "***\n",
    "This Juypter Notebook is a collection of solutions to the tasks given to me for the Emerging Technology module delivered by Dr. Ian Mcloughlin. Each of the four tasks are marked below. You will also find a list of references with each task and also a general reference list that I used throughout.\n",
    "\n",
    "Author: Darragh Lally   \n",
    "GMIT ID: G00220290   \n",
    "Mail: g00220290@gmit.ie\n",
    "***\n",
    "\n",
    "## Task 1: SQRT2  \t$\\sqrt{2}$\n",
    "\n",
    "***\n",
    "\n",
    "In the first of our tasks we are to create a python function that will compute and display the square root of 2, to 100 decimal places **without** using any extra imports, including but not limited to math.   \n",
    "\n",
    "\n",
    "Using Newton's Method we can calculate the square root of a number [1.1]. To find the square root $z$ of number $x$, we can loop using the following;   \n",
    "    \n",
    "$$ z_{next} = z - \\frac{z^2 - x}{2z} $$    \n",
    "\n",
    "\n",
    "***\n",
    "#### Step 1\n",
    "***\n",
    "Using Newtons method to calculate the square root of 2. Testing our algorithm with number '2' against the import 'math', we can confirm the algorithm is returning an acceptable value. But we are seeing a limited number of decimal places. The problem calls for us to print the value to one hundred decimal places. Which leads us to the next step.\n",
    "\n",
    "#### Newtons Method in Python"
   ]
  },
  {
   "cell_type": "code",
   "execution_count": 1,
   "metadata": {},
   "outputs": [
    {
     "name": "stdout",
     "output_type": "stream",
     "text": [
      "Newtons Algorithm Result on 2:\n",
      "1.4142156862745099\n",
      "Python Library Result on 2:\n",
      "1.4142135623730951\n"
     ]
    }
   ],
   "source": [
    "def sqrt2(x):\n",
    "    \"\"\"\n",
    "    A function to calculate the square root of a number. \n",
    "    \"\"\"\n",
    "    # Inital guess for sqrt of z\n",
    "    z = x / 2     \n",
    "    # Loop until happy with accuracy\n",
    "    while abs(x - (z * z)) > 0.0001:\n",
    "        # Calculate a better guess\n",
    "        z -= (z*z - x) / (2*z)\n",
    "    # Return the approx square root of x\n",
    "    return z\n",
    "\n",
    "# Test our function\n",
    "print('Newtons Algorithm Result on 2:')\n",
    "print(sqrt2(2))\n",
    "\n",
    "# Test with the 'math' equivalent\n",
    "import math\n",
    "print('Python Library Result on 2:')\n",
    "print(math.sqrt(2))"
   ]
  },
  {
   "cell_type": "markdown",
   "metadata": {},
   "source": [
    "***\n",
    "#### Step 2\n",
    "***\n",
    "**2.1** We need to now figure out how to print out more decimal places, currently we have 15. One post on stackoverflow[1.2] suggests using the function repr() [1.3].\n",
    "- repr(); This function returns a string representation of an object been passed as the parameter.\n",
    "- Below test shows that repr() is returning the same number of decimal places as before."
   ]
  },
  {
   "cell_type": "code",
   "execution_count": 2,
   "metadata": {},
   "outputs": [
    {
     "name": "stdout",
     "output_type": "stream",
     "text": [
      "With repr(): \n",
      "1.4142156862745099\n",
      "Without repr(): \n",
      "1.4142156862745099\n"
     ]
    }
   ],
   "source": [
    "# Testing repr()\n",
    "ans = sqrt2(2)\n",
    "print('With repr(): ')\n",
    "print( repr(ans))\n",
    "print('Without repr(): ')\n",
    "print(ans)"
   ]
  },
  {
   "cell_type": "markdown",
   "metadata": {},
   "source": [
    "**2.2** The same stackoverflow post [1.2], also suggests trying to format the string output using the following;\n",
    "- \"{0:.100f}\".format(a), where the float value is the number of decimal places.\n",
    "    - We are getting closer to our solution as seen by the extra accuracy of our output, yet the trailing zeros should be addressed.\n",
    "    \n",
    "#### Testing"
   ]
  },
  {
   "cell_type": "code",
   "execution_count": 3,
   "metadata": {},
   "outputs": [
    {
     "data": {
      "text/plain": [
       "'1.4142156862745098866440685014822520315647125244140625000000000000000000000000000000000000000000000000'"
      ]
     },
     "execution_count": 3,
     "metadata": {},
     "output_type": "execute_result"
    }
   ],
   "source": [
    "# Testing string formatting\n",
    "ans = sqrt2(2)\n",
    "\"{0:.100f}\".format(ans)"
   ]
  },
  {
   "cell_type": "markdown",
   "metadata": {},
   "source": [
    "**2.3** I found a response to the question 'Generating digits of square root 2' on Stackoverflow [1.4]. \n",
    "Function returns the square root of 'a' with 'digits' number of places.It does not however place the decimal point in its output. It takes two inputs \n",
    "1. Number to perform task on - 'a'\n",
    "2. The number of places to print to - 'digits'\n",
    "3. Performs the following algorithm on 'a' to increase its size dramatically.\n",
    "$$ a * 10^{(2*digits)} $$\n",
    "4. Finds the square root of new number"
   ]
  },
  {
   "cell_type": "code",
   "execution_count": 4,
   "metadata": {
    "scrolled": true
   },
   "outputs": [
    {
     "name": "stdout",
     "output_type": "stream",
     "text": [
      "Stackoverflow Result: 14142135623730950488016887242096980785696718753769480731766797379907324784621070388503875343276415727\n"
     ]
    }
   ],
   "source": [
    "# https://stackoverflow.com/questions/5187664/generating-digits-of-square-root-of-2\n",
    "def sqroot(a, digits):\n",
    "    a = a * (10**(2*digits))\n",
    "    x_prev = 0\n",
    "    x_next = 1 * (10**digits)\n",
    "    while x_prev != x_next:\n",
    "        x_prev = x_next\n",
    "        x_next = (x_prev + (a // x_prev)) >> 1\n",
    "    return x_next\n",
    "print('Stackoverflow Result:',sqroot(2,100))"
   ]
  },
  {
   "cell_type": "markdown",
   "metadata": {},
   "source": [
    "**2.4** Refactoring the above function to meet my needs. This will prove my understanding of the function but also allow me to add the decimal point into the output. Although the problem calls for us to deal with 2 to 100 places, I am leaving the function parameters, so we can perform this square root on any number passed in and, be able to decide the number of digits returned in each case."
   ]
  },
  {
   "cell_type": "code",
   "execution_count": 5,
   "metadata": {},
   "outputs": [
    {
     "name": "stdout",
     "output_type": "stream",
     "text": [
      "The square root of 2, to 100 place: 1.4142135623730950488016887242096980785696718753769480731766797379907324784621070388503875343276415727\n"
     ]
    }
   ],
   "source": [
    "# 2.0 Find square root of n to d decimal places\n",
    "def sqrt2(n,d):\n",
    "    # n = number to perform square root on\n",
    "    # d = number of digits to return\n",
    "    # 1. Multiply n by 10^(2*d)\n",
    "    # 2. Get integer square root of new n\n",
    "    # 3. Convert to string and store in list\n",
    "    # 4. Add decimal point\n",
    "    n = n*(10**(2*d))\n",
    "    x_previous = 0\n",
    "    x_next = 1*(10**d)\n",
    "    while x_previous != x_next:\n",
    "        x_previous = x_next\n",
    "        x_next = (x_previous + (n//x_previous)) >> 1\n",
    "    # Convert 'x_next' to a string, add to list\n",
    "    l_chars = list(str(x_next))\n",
    "    # Add decmial point in index 1 of list\n",
    "    l_chars.insert(1,'.')\n",
    "    # Concat l_chars\n",
    "    ans = ''.join(l_chars)\n",
    "    # return our answer\n",
    "    return ans\n",
    "\n",
    "# Testing \n",
    "print('The square root of 2, to 100 place:',sqrt2(2,100))"
   ]
  },
  {
   "cell_type": "markdown",
   "metadata": {},
   "source": [
    "### References; sqrt2\n",
    "[1.1] A tour of Go; Exercise: Loops and Functions; https://tour.golang.org/flowcontrol/8\n",
    "\n",
    "[1.2] stackeoverflow, more decimal places needed in python; https://stackoverflow.com/questions/14057835/more-decimal-places-needed-in-python\n",
    "\n",
    "[1.3] repr(), Programiz, Python Tutorials; https://www.programiz.com/python-programming/methods/built-in/repr\n",
    "\n",
    "[1.4] casevh, stackeoverflow contributor, Generating digits of square root of 2; https://stackoverflow.com/questions/5187664/generating-digits-of-square-root-of-2"
   ]
  },
  {
   "cell_type": "markdown",
   "metadata": {},
   "source": [
    "***\n",
    "## Task 2: Chi-squared  $\\chi^2$\n",
    "***\n",
    "Our second task is to verify the Chi-squared value from a given table of data. Published by Karl Pearson in 1900, it is considerd to be a 'founding stone' of modern statistics[2.1].\n",
    "\n",
    "#### Given Table - [2.1]\n",
    "| | A | B | C | D | Total     \n",
    "| :------------- | :----------: | :-----------: | :-----------: | :-----------: | -----------: |\n",
    "|  White Collar | 90 | 60 | 104 | 95 | 349 |\n",
    "| Blue Collar | 30 | 50 | 51 | 20 | 151 |\n",
    "| No Collar | 30 | 40 | 45 | 35 | 150 |\n",
    "| Total | 150 | 150 | 200 | 150 | 650 |\n",
    "\n",
    "\n",
    "#### Value to be verified\n",
    "Approximately **24.6**"
   ]
  },
  {
   "cell_type": "markdown",
   "metadata": {},
   "source": [
    "A search for 'scipy.stats' and 'chi squared' gave me links to the SciPy.org website. It holds the documentation for chisquared [2.2]. Below I implement the function, using data from given table. By testing this function I have found that it is not returning the relevent information to me. I have tried with multiple parameter differences.\n",
    "1. Table Data only\n",
    "2. Table Data and expected frequencies\n",
    "3. Table Data and delta degree of freedom"
   ]
  },
  {
   "cell_type": "code",
   "execution_count": 6,
   "metadata": {},
   "outputs": [],
   "source": [
    "from scipy.stats import chisquare\n",
    "import numpy as np\n",
    "\n",
    "# 1. params: table data.\n",
    "#chisquare([[90,60,104,95],[30,50,51,20],[30,40,45,35]])\n",
    "\n",
    "# 2. params: table data, f_exp (expected frequencies in each cat)\n",
    "#chisquare([[90,60,104,95],[30,50,51,20],[30,40,45,35]], f_exp=[[90,60,104,95],[30,50,51,20],[30,40,45,35]])\n",
    "\n",
    "# 3. params: table data, ddof (delta degrees of freedom)\n",
    "#chisquare([[90,60,104,95],[30,50,51,20],[30,40,45,35]], ddof=0.5)\n",
    "\n"
   ]
  },
  {
   "cell_type": "markdown",
   "metadata": {},
   "source": [
    "Further research led me to chi2_contingency on scipy docs [2.3]. If we pass in our table data it will return;\n",
    "1. Chi test statistic. \n",
    "2. 'p' value.\n",
    "3. Degrees of freedom.\n",
    "4. Expected frequencies array.\n",
    "\n",
    "By using the below code we can confirm;\n",
    "1. Approximated value 24.6 is only 0.03 off actual value.\n",
    "2. 'p' value = 0.0004098425861096696 "
   ]
  },
  {
   "cell_type": "code",
   "execution_count": 7,
   "metadata": {},
   "outputs": [
    {
     "data": {
      "text/plain": [
       "(24.5712028585826,\n",
       " 0.0004098425861096696,\n",
       " 6,\n",
       " array([[ 80.53846154,  80.53846154, 107.38461538,  80.53846154],\n",
       "        [ 34.84615385,  34.84615385,  46.46153846,  34.84615385],\n",
       "        [ 34.61538462,  34.61538462,  46.15384615,  34.61538462]]))"
      ]
     },
     "execution_count": 7,
     "metadata": {},
     "output_type": "execute_result"
    }
   ],
   "source": [
    "from scipy.stats import chi2_contingency\n",
    "import numpy as np\n",
    "\n",
    "# Create numpy array from table data\n",
    "obs = np.array([[90,60,104,95],[30,50,51,20],[30,40,45,35]])\n",
    "# Pass into function\n",
    "chi2_contingency(obs)"
   ]
  },
  {
   "cell_type": "markdown",
   "metadata": {},
   "source": [
    "### References; chi squared\n",
    "[2.1] Chi-squared, wikipedia, https://en.wikipedia.org/wiki/Chi-squared_test\n",
    "\n",
    "[2.2] SciPy.org, scipy.stats.chi2_contingency; https://docs.scipy.org/doc/scipy/reference/generated/scipy.stats.chisquare.html\n",
    "\n",
    "[2.3] SciPy.org, scipy.stats.chisquare; https://docs.scipy.org/doc/scipy/reference/generated/scipy.stats.chi2_contingency.html\n",
    "\n",
    "Abhik Mukherjee, Medium, Difference Between 'chi2_contingency' and 'chisquare' in scipy; https://mabhik93.medium.com/difference-between-chi2-contingency-and-chisquare-in-python-132dacf84678\n",
    "\n",
    "Stack Exchange, Chi-squared test with scipy: whats the difference between chi2_contingency and chisquare; https://stats.stackexchange.com/questions/110718/chi-squared-test-with-scipy-whats-the-difference-between-chi2-contingency-and\n"
   ]
  },
  {
   "cell_type": "markdown",
   "metadata": {},
   "source": [
    "***\n",
    "\n",
    "## Task 3: MS Excel Standard Deviation, Population & Sample\n",
    "\n",
    "***\n",
    "\n",
    "Task 3 envolves standard deviation and in particular, the differences between Microsoft Excel's two implementations of the equation and demo why STDEV.S calculation is a better estimate for the standard deviation of a population when performed on a sample.\n",
    "\n",
    "1. **STDEV.P**\n",
    "    * Standard deviation of an **entire population** \n",
    "\n",
    "    * Biased Analysis\n",
    "    \n",
    "    $$\\sqrt{\\frac{\\epsilon(x - \\bar{x})^2}{n}}$$\n",
    "    \n",
    "2. **STDEV.S**\n",
    "    * Standard deviation of a **sample of an entire Population** \n",
    "\n",
    "    * Non-biased Analysis\n",
    "    \n",
    "    $$\\sqrt{\\frac{\\epsilon(x - \\bar{x})^2}{n-1}}$$\n",
    "\n"
   ]
  },
  {
   "cell_type": "code",
   "execution_count": 8,
   "metadata": {},
   "outputs": [
    {
     "name": "stdout",
     "output_type": "stream",
     "text": [
      "Entire Population: [158, 149, 12, 62, 99, 100, 23, 745, 302, 71, 3, 662, 369, 1053, 8, 796, 518]\n",
      "Sample Population: [158, 149, 12, 62]\n",
      "\n",
      "Formulas used as intended:\n",
      "STDEV.P with entire pop: 321.75319906298745\n",
      "STDEV.S with sample pop: 70.38643335188962\n",
      "Difference 128.2027%\n",
      "\n",
      "Incorrect use of STDEV.S formula:\n",
      "STDEV.S with entire pop: 331.65560627927067\n",
      "Difference 3.0310%\n",
      "\n",
      "Incorrect use of STDEV.P formula:\n",
      "STDEV.P with sample pop: 60.95643936451669\n",
      "Difference 136.2896%\n"
     ]
    }
   ],
   "source": [
    "import numpy as np\n",
    "\n",
    "# STDEV.P\n",
    "def stdev_p(x):\n",
    "    return np.sqrt(np.sum((x - np.mean(x))**2)/len(x))\n",
    "\n",
    "# STDEV.S\n",
    "def stdev_s(x):\n",
    "    return np.sqrt(np.sum((x - np.mean(x))**2)/(len(x)-1))\n",
    "\n",
    "# To find the % difference\n",
    "def percent_diff(x,y):\n",
    "    return (x-y)/((x+y)/2)\n",
    "\n",
    "# Test arrays 1\n",
    "t1_pop = [50,35,100,60,5,9]\n",
    "t1_samp = [50,35,100]\n",
    "# Test arrays 2\n",
    "t2_pop = [10,1,3,4,20,34,75,14,22]\n",
    "t2_samp = [10,1,3,4,20,34]\n",
    "# Test arrays 3\n",
    "t3_pop = [125,50,230,10,100]\n",
    "t3_samp = [125,50,230]\n",
    "# Test arrays 4\n",
    "t4_pop = [1,10,15,37,84,25,1500,783,9450,6783,1011,2159]\n",
    "t4_samp = [783,9450,6783,1011,2159]\n",
    "\n",
    "# Test arrays 5.1\n",
    "t5_1_pop = [158,149,12,62,99,100,23,745,302,71,3,662,369,1053,8,796,518]\n",
    "t5_1_samp = [158,149,12,62]\n",
    "# Test arrays 5.2\n",
    "t5_2_pop = [158,149,12,62,99,100,23,745,302,71,3,662,369,1053,8,796,518]\n",
    "t5_2_samp = [158,149,12,62,99,100,23,745,302]\n",
    "\n",
    "entire_pop = t5_1_pop\n",
    "sample_pop = t5_1_samp\n",
    "\n",
    "# Testing\n",
    "# Print Population Data\n",
    "print('Entire Population:', entire_pop)\n",
    "print('Sample Population:', sample_pop)\n",
    "print('\\nFormulas used as intended:')\n",
    "\n",
    "# SD Population with entire population\n",
    "print('STDEV.P with entire pop:', stdev_p(entire_pop))\n",
    "# SD Sample with sample population\n",
    "print('STDEV.S with sample pop:', stdev_s(sample_pop))\n",
    "# Find percentage difference\n",
    "x1 = stdev_p(entire_pop) \n",
    "y1 = stdev_s(sample_pop)\n",
    "dif = percent_diff(x1,y1)\n",
    "print('Difference {:.4%}'.format(abs(dif)))\n",
    "\n",
    "print('\\nIncorrect use of STDEV.S formula:')\n",
    "# SD Sample with entire population\n",
    "print('STDEV.S with entire pop:', stdev_s(entire_pop))\n",
    "y2 = stdev_s(entire_pop)\n",
    "dif1 = percent_diff(x1, y2)\n",
    "print('Difference {:.4%}'.format(abs(dif1)))\n",
    "\n",
    "print('\\nIncorrect use of STDEV.P formula:')\n",
    "# SD Population with sample population\n",
    "print('STDEV.P with sample pop:', stdev_p(sample_pop))\n",
    "y3 = stdev_p(sample_pop)\n",
    "dif2 = percent_diff(x1,y3)\n",
    "print('Difference {:.4%}'.format(abs(dif2)))"
   ]
  },
  {
   "cell_type": "markdown",
   "metadata": {},
   "source": [
    "I have four sets of test data in the block above. Running each group of data through the code is throwing up some interesting information:\n",
    "\n",
    "**Test 1**<br>\n",
    "5.3% difference between STDEV.P(**Enitre** Population) and STDEV.S(**Sample** Population)<br>\n",
    "9.1% difference between STDEV.P(**Enitre** Population) and STDEV.S(**Enitre** Population)<br>\n",
    "14.9% difference between STDEV.P(**Enitre** Population) and STDEV.P(**Sample** Population)<br>\n",
    "\n",
    "**Test 2**<br>\n",
    "51.96% difference between STDEV.P(**Enitre** Population) and STDEV.S(**Sample** Population)<br>\n",
    "5.8% difference between STDEV.P(**Enitre** Population) and STDEV.S(**Enitre** Population)<br>\n",
    "60.36% difference between STDEV.P(**Enitre** Population) and STDEV.P(**Sample** Population)<br>\n",
    "\n",
    "**Test 3**<br>\n",
    "18.7% difference between STDEV.P(**Enitre** Population) and STDEV.S(**Sample** Population)<br>\n",
    "11.14% difference between STDEV.P(**Enitre** Population) and STDEV.S(**Enitre** Population)<br>\n",
    "1.5% difference between STDEV.P(**Enitre** Population) and STDEV.P(**Sample** Population)<br>\n",
    "\n",
    "**Test 4**<br>\n",
    "27.35% difference between STDEV.P(**Enitre** Population) and STDEV.S(**Sample** Population)<br>\n",
    "4.34% difference between STDEV.P(**Enitre** Population) and STDEV.S(**Enitre** Population)<br>\n",
    "16.3% difference between STDEV.P(**Enitre** Population) and STDEV.P(**Sample** Population)<br>\n",
    "\n",
    "It would seem as though, depending on the sample sizes our calculation fluctuates greatly. I have done some research on this and what I have found seems to back up my theory[3.1],[3.2],[3.3],[3.4],[3.5]. I prove this using Tests 5.1 and 5.2:\n",
    "\n",
    "**Test 5.1** using 4 values from the entire population as the sample size<br>\n",
    "128.2% difference between STDEV.P(**Enitre** Population) and STDEV.S(**Sample** Population)<br>\n",
    "3.0% difference between STDEV.P(**Enitre** Population) and STDEV.S(**Enitre** Population)<br>\n",
    "136.28% difference between STDEV.P(**Enitre** Population) and STDEV.P(**Sample** Population)<br>\n",
    "\n",
    "**Test 5.2** using 9 values from the entire population as the sample size<br>\n",
    "34.18% difference between STDEV.P(**Enitre** Population) and STDEV.S(**Sample** Population)<br>\n",
    "3.0% difference between STDEV.P(**Enitre** Population) and STDEV.S(**Enitre** Population)<br>\n",
    "39.87% difference between STDEV.P(**Enitre** Population) and STDEV.P(**Sample** Population)<br>\n",
    "\n",
    "These tests also show that using STDEV.S with the entire population is usually more accurate than using the same formula with the sample size. This makes sense as we are feeding more data into the formula and therefor will be more acurate. Of all the tests above, only Test 1 shows that using STDEV.S with a sample size is more accurate than my previous comment."
   ]
  },
  {
   "cell_type": "markdown",
   "metadata": {},
   "source": [
    "### References; STDEV.S & STDEV.P\n",
    "\n",
    "stdev.s https://support.microsoft.com/en-us/office/stdev-s-function-7d69cf97-0c1f-4acf-be27-f3e83904cc23\n",
    "\n",
    "stdev.p https://support.microsoft.com/en-us/office/stdev-p-function-6e917c05-31a0-496f-ade7-4f4e7462f285\n",
    "\n",
    "Standard Deviation and Python https://blog.finxter.com/how-to-get-the-standard-deviation-of-a-python-list/\n",
    "\n",
    "Formatting https://mkaz.blog/code/python-string-format-cookbook/\n",
    "\n",
    "[3.1] https://www.dummies.com/education/math/statistics/how-to-determine-the-minimum-size-needed-for-a-statistical-sample/\n",
    "\n",
    "[3.2] https://en.wikipedia.org/wiki/Sample_size_determination\n",
    "\n",
    "[3.3] https://brownmath.com/stat/sampsiz.htm\n",
    "\n",
    "[3.4] https://www.itl.nist.gov/div898/handbook/prc/section2/prc222.htm\n",
    "\n",
    "[3.5] https://demonstrations.wolfram.com/DistributionOfNormalMeansWithDifferentSampleSizes/"
   ]
  },
  {
   "cell_type": "markdown",
   "metadata": {},
   "source": [
    "***\n",
    "\n",
    "## Task 4: K-Means Clustering on Fisher's Irirs Data\n",
    "\n",
    "***\n"
   ]
  },
  {
   "cell_type": "markdown",
   "metadata": {},
   "source": [
    "Task 4, in this variation, involves applying K-Means Clustering on Fisher's Iris Data Set[4.1]. "
   ]
  },
  {
   "cell_type": "code",
   "execution_count": 5,
   "metadata": {},
   "outputs": [],
   "source": [
    "from sklearn import datasets\n",
    "import matplotlib.pyplot as plt\n",
    "import pandas as pd\n",
    "from sklearn.cluster import KMeans\n",
    "#import sklearn.cluster as skcl"
   ]
  },
  {
   "cell_type": "code",
   "execution_count": 6,
   "metadata": {},
   "outputs": [],
   "source": [
    "# Dataset\n",
    "#data = pd.read_csv(\"iris.csv\")\n",
    "iris = datasets.load_iris()"
   ]
  },
  {
   "cell_type": "code",
   "execution_count": 7,
   "metadata": {},
   "outputs": [],
   "source": [
    "# Define target and predictor\n",
    "X = iris.data[:, :2]\n",
    "y = iris.target"
   ]
  },
  {
   "cell_type": "code",
   "execution_count": 8,
   "metadata": {},
   "outputs": [
    {
     "data": {
      "text/plain": [
       "Text(0, 0.5, 'Sepal Width')"
      ]
     },
     "execution_count": 8,
     "metadata": {},
     "output_type": "execute_result"
    },
    {
     "data": {
      "image/png": "[encoded data removed]",
      "text/plain": [
       "<Figure size 432x288 with 1 Axes>"
      ]
     },
     "metadata": {
      "needs_background": "light"
     },
     "output_type": "display_data"
    }
   ],
   "source": [
    "# Create Scatter Plot\n",
    "plt.scatter(X[:,0], X[:,1], c=y, cmap='gist_rainbow')\n",
    "plt.xlabel('Spea1 Length', fontsize=18)\n",
    "plt.ylabel('Sepal Width', fontsize=18)"
   ]
  },
  {
   "cell_type": "code",
   "execution_count": 9,
   "metadata": {},
   "outputs": [],
   "source": [
    "# Fitting: Perform kmeans fitting, pass in dataset and perform kmeans\n",
    "mykmeans = KMeans(n_clusters=2, random_state=0).fit(X)"
   ]
  },
  {
   "cell_type": "code",
   "execution_count": 10,
   "metadata": {},
   "outputs": [
    {
     "name": "stdout",
     "output_type": "stream",
     "text": [
      "[[6.61044776 2.96567164]\n",
      " [5.22409639 3.1313253 ]]\n"
     ]
    }
   ],
   "source": [
    "# Get the cluster centers\n",
    "centers = mykmeans.cluster_centers_\n",
    "print(centers)"
   ]
  },
  {
   "cell_type": "code",
   "execution_count": 11,
   "metadata": {},
   "outputs": [
    {
     "data": {
      "text/plain": [
       "[<matplotlib.lines.Line2D at 0x1ecd0e1ff10>]"
      ]
     },
     "execution_count": 11,
     "metadata": {},
     "output_type": "execute_result"
    },
    {
     "data": {
      "image/png": "[encoded data removed]",
      "text/plain": [
       "<Figure size 432x288 with 1 Axes>"
      ]
     },
     "metadata": {
      "needs_background": "light"
     },
     "output_type": "display_data"
    }
   ],
   "source": [
    "plt.scatter(X[:,0], X[:,1], c=y, cmap='gist_rainbow')\n",
    "plt.xlabel('Spea1 Length', fontsize=18)\n",
    "plt.ylabel('Sepal Width', fontsize=18)\n",
    "plt.plot(centers[:,0], centers[:,1], 'k.')"
   ]
  },
  {
   "cell_type": "code",
   "execution_count": null,
   "metadata": {},
   "outputs": [],
   "source": []
  },
  {
   "cell_type": "code",
   "execution_count": null,
   "metadata": {},
   "outputs": [],
   "source": []
  },
  {
   "cell_type": "markdown",
   "metadata": {},
   "source": [
    "### References\n",
    "\n",
    "https://medium.com/@belen.sanchez27/predicting-iris-flower-species-with-k-means-clustering-in-python-f6e46806aaee\n",
    "\n",
    "[4.1] Curren, GitHub, Fisher's Iris Dataset; https://gist.github.com/curran/a08a1080b88344b0c8a7"
   ]
  },
  {
   "cell_type": "markdown",
   "metadata": {},
   "source": [
    "# References\n",
    "\n",
    "### General\n",
    "Markdown mathematical symbols, LKS90 Github; https://gist.github.com/LKS90/252ac41bd4a173be35b0 \n",
    "\n",
    "Markdown Guide; https://www.markdownguide.org/\n",
    "\n",
    "Numpy Documentation; https://numpy.org/doc/stable/user/quickstart.html\n",
    "\n"
   ]
  },
  {
   "cell_type": "markdown",
   "metadata": {},
   "source": [
    "*** \n",
    "\n",
    "#### End"
   ]
  }
 ],
 "metadata": {
  "kernelspec": {
   "display_name": "Python 3",
   "language": "python",
   "name": "python3"
  },
  "language_info": {
   "codemirror_mode": {
    "name": "ipython",
    "version": 3
   },
   "file_extension": ".py",
   "mimetype": "text/x-python",
   "name": "python",
   "nbconvert_exporter": "python",
   "pygments_lexer": "ipython3",
   "version": "3.8.5"
  }
 },
 "nbformat": 4,
 "nbformat_minor": 4
}
