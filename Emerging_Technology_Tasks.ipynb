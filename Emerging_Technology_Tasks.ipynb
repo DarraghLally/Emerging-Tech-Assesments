{
 "cells": [
  {
   "cell_type": "markdown",
   "metadata": {},
   "source": [
    "***\n",
    "\n",
    "\n",
    "# Emerging Technology Tasks\n",
    "\n",
    "\n",
    "***\n",
    "This Juypter Notebook is a collection of solutions to the tasks given to me for the Emerging Technology module delivered by Dr. Ian Mcloughlin.\n",
    "\n",
    "Author: Darragh Lally   \n",
    "GMIT ID: G00220290   \n",
    "Mail: g00220290@gmit.ie"
   ]
  },
  {
   "cell_type": "markdown",
   "metadata": {},
   "source": [
    "***\n",
    "\n",
    "### Task 1: SQRT2\n",
    "\n",
    "***\n",
    "\n",
    "In the first of our tasks we are to create a python function that will compute and display the square root of 2, to 100 decimal places **without** using any extra imports, including but not limited to math.   \n",
    "\n",
    "\n",
    "Using Newton's Method we can calculate the square root of a number [1]. To find the square root $z$ of number $x$, we can loop using the following;   \n",
    "    \n",
    "$$ z_{next} = z - \\frac{z^2 - x}{2z} $$    \n",
    "\n",
    "\n",
    "***\n",
    "### Step 1\n",
    "***\n",
    "Using Newtons method to calculate the square root of 2. Testing our algorithm with numbers '100' and '2' against the import 'math', we can confirm the algorithm is returning an acceptable value. But we are seeing a limited number of decimal places. The problem calls for us to print the value to one hundred decimal places. Which leads us to the next step.\n",
    "\n",
    "#### Newtons Method in Python"
   ]
  },
  {
   "cell_type": "code",
   "execution_count": 1,
   "metadata": {},
   "outputs": [],
   "source": [
    "def sqrt2(x):\n",
    "    \"\"\"\n",
    "    A function to calculate the square root of a number. \n",
    "    \"\"\"\n",
    "    # Inital guess for sqrt of z\n",
    "    z = x / 2     \n",
    "    # Loop until happy with accuracy\n",
    "    while abs(x - (z * z)) > 0.0001:\n",
    "        # Calculate a better guess\n",
    "        z -= (z*z - x) / (2*z)\n",
    "    # Return the approx square root of x\n",
    "    return z"
   ]
  },
  {
   "cell_type": "markdown",
   "metadata": {},
   "source": [
    "#### Testing"
   ]
  },
  {
   "cell_type": "code",
   "execution_count": 2,
   "metadata": {},
   "outputs": [
    {
     "data": {
      "text/plain": [
       "1.4142156862745099"
      ]
     },
     "execution_count": 2,
     "metadata": {},
     "output_type": "execute_result"
    }
   ],
   "source": [
    "# Test our function\n",
    "sqrt2(2)"
   ]
  },
  {
   "cell_type": "code",
   "execution_count": 3,
   "metadata": {},
   "outputs": [
    {
     "data": {
      "text/plain": [
       "1.4142135623730951"
      ]
     },
     "execution_count": 3,
     "metadata": {},
     "output_type": "execute_result"
    }
   ],
   "source": [
    "# Now with the 'math' equivalent\n",
    "import math\n",
    "math.sqrt(2)"
   ]
  },
  {
   "cell_type": "markdown",
   "metadata": {},
   "source": [
    "***\n",
    "### Step 2\n",
    "***\n",
    "**2.1** We need to now figure out how to print out more decimal places, currently we have 15. One post on stackoverflow[2] suggests using the function repr() [3].\n",
    "- repr(); This function returns a string representation of an object been passed as the parameter.\n",
    "- Below test shows that repr() is returning the same number of decimal places as before.\n",
    "    - This result suggests that under the hood the number is been stored to 15 decimal places and not just printing that number for readability.\n",
    "\n",
    "\n",
    "\n"
   ]
  },
  {
   "cell_type": "code",
   "execution_count": 14,
   "metadata": {},
   "outputs": [
    {
     "name": "stdout",
     "output_type": "stream",
     "text": [
      "Without repr(): \n",
      "1.4142156862745099\n",
      "With repr(): \n",
      "1.4142156862745099\n"
     ]
    }
   ],
   "source": [
    "# Testing repr()\n",
    "ans = sqrt2(2)\n",
    "print('Without repr(): ')\n",
    "print(ans)\n",
    "print('With repr(): ')\n",
    "print( repr(ans))"
   ]
  },
  {
   "cell_type": "markdown",
   "metadata": {},
   "source": [
    "**2.2** The same stackoverflow post [2], also suggests trying to format the string output using the following;\n",
    "- \"{0:.100f}\".format(a), where the float value is the number of decimal places.\n",
    "    - We are getting closer to our solution as seen by the extra accuracy of our output.\n",
    "    - The accuracy is not where we would like it to be."
   ]
  },
  {
   "cell_type": "code",
   "execution_count": 5,
   "metadata": {},
   "outputs": [
    {
     "data": {
      "text/plain": [
       "'1.4142156862745098866440685014822520315647125244140625000000000000000000000000000000000000000000000000'"
      ]
     },
     "execution_count": 5,
     "metadata": {},
     "output_type": "execute_result"
    }
   ],
   "source": [
    "# Testing string formatting\n",
    "ans = sqrt2(2)\n",
    "\"{0:.100f}\".format(ans)"
   ]
  },
  {
   "cell_type": "markdown",
   "metadata": {},
   "source": [
    "### Floating Point Numbers\n",
    "- The exact representation of a decimal number requires an infinite number binary digits. Since floating-point numbers have a finite number of bits, the number is rounded to a nearby value. "
   ]
  },
  {
   "cell_type": "code",
   "execution_count": 6,
   "metadata": {},
   "outputs": [
    {
     "name": "stdout",
     "output_type": "stream",
     "text": [
      "1.4142135623730950488016887242096980785696718753769480731766797379907324784621070388503875343276415727\n"
     ]
    }
   ],
   "source": [
    "# https://stackoverflow.com/questions/5187664/generating-digits-of-square-root-of-2\n",
    "def sqrt2_final(userInput):\n",
    "\n",
    "    # userInput multipy by 10 and then multiply that answer by itself, two hundred times\n",
    "    x = userInput * 10**200\n",
    "\n",
    "    # one multiply by (ten multiply by 10, one hundred times)\n",
    "    j = 1 * (10**100)\n",
    "\n",
    "    i = 0\n",
    "\n",
    "    # when i is equals to j, that is our square root of 2 (to 100 decimal places) without \n",
    "    # the decimal point between the first two indexes. \n",
    "    while i != j:\n",
    "        i = j\n",
    "        #   // divide by and floor it   >> shifts the bits to the right by 1 place\n",
    "        j = (i + ( x // i)) >> 1\n",
    "\n",
    "    # convert j to a string and add it to a List\n",
    "    l = list(str(j))\n",
    "\n",
    "    # insert . to index 1\n",
    "    l.insert(1, '.')\n",
    "\n",
    "    # join the content of l together with no spaces and store in sqrtOfTwo\n",
    "    sqrtOfTwo = \"\".join(l)\n",
    "\n",
    "    # return the square root of the users input\n",
    "    return sqrtOfTwo\n",
    "\n",
    "print(sqrt2_final(2))"
   ]
  },
  {
   "cell_type": "code",
   "execution_count": 7,
   "metadata": {},
   "outputs": [
    {
     "name": "stdout",
     "output_type": "stream",
     "text": [
      "14142135623730950488016887242096980785696718753769480731766797379907324784621070388503875343276415727\n"
     ]
    }
   ],
   "source": [
    "def sqroot(a, digits):\n",
    "    a = a * (10**(2*digits))\n",
    "    x_prev = 0\n",
    "    x_next = 1 * (10**digits)\n",
    "    while x_prev != x_next:\n",
    "        x_prev = x_next\n",
    "        x_next = (x_prev + (a // x_prev)) >> 1\n",
    "    return x_next\n",
    "print(sqroot(2,100))"
   ]
  },
  {
   "cell_type": "markdown",
   "metadata": {},
   "source": [
    "***\n",
    "### Task 2: Chi-squared  $\\chi^2$\n",
    "***\n",
    "Our second task is to verify the Chi-squared value from a given table of data. Published by Karl Pearson in 1900, it is considerd to be a 'founding stone' of moders statistics[4].\n",
    "\n",
    "#### Given Table - [4]\n",
    "| | A | B | C | D | Total     \n",
    "| :------------- | :----------: | :-----------: | :-----------: | :-----------: | -----------: |\n",
    "|  White Collar | 90 | 60 | 104 | 95 | 349 |\n",
    "| Blue Collar | 30 | 50 | 51 | 20 | 151 |\n",
    "| No Collar | 30 | 40 | 45 | 35 | 150 |\n",
    "| Total | 150 | 150 | 200 | 150 | 650 |\n",
    "\n",
    "\n",
    "#### Value to be verified\n",
    "Approximately **24.6**"
   ]
  },
  {
   "cell_type": "code",
   "execution_count": 8,
   "metadata": {},
   "outputs": [
    {
     "name": "stdout",
     "output_type": "stream",
     "text": [
      "               A   B    C   D\n",
      "White Collar  90  60  104  95\n",
      "Blue Collar   30  50   51  20\n",
      "No collar     30  40   45  35\n"
     ]
    }
   ],
   "source": [
    "import numpy as np\n",
    "import pandas as pd\n",
    "import scipy.stats as stats\n",
    "\n",
    "cols = ['A', 'B', 'C', 'D']\n",
    "data = pd.DataFrame(columns=cols)\n",
    "\n",
    "data.loc['White Collar'] = [90, 60, 104, 95]\n",
    "data.loc['Blue Collar'] = [30, 50, 51, 20]\n",
    "data.loc['No collar'] = [30, 40, 45, 35]\n",
    "\n",
    "print(data)"
   ]
  },
  {
   "cell_type": "code",
   "execution_count": 9,
   "metadata": {},
   "outputs": [
    {
     "name": "stdout",
     "output_type": "stream",
     "text": [
      "P value for effect of area on proportion of each collar:\n",
      "0.0004098425861096696\n",
      "\n",
      "Expected numbers if area did not effect proportion of each collar:\n",
      "[[ 80.53846154  80.53846154 107.38461538  80.53846154]\n",
      " [ 34.84615385  34.84615385  46.46153846  34.84615385]\n",
      " [ 34.61538462  34.61538462  46.15384615  34.61538462]]\n"
     ]
    }
   ],
   "source": [
    "V, p, dof, expected = stats.chi2_contingency(data) \n",
    "# add correction=False for uncorrected Chi-square\n",
    "\n",
    "print ('P value for effect of area on proportion of each collar:')\n",
    "print (p)\n",
    "print ('\\nExpected numbers if area did not effect proportion of each collar:')\n",
    "print (expected)"
   ]
  },
  {
   "cell_type": "markdown",
   "metadata": {},
   "source": [
    "# References\n",
    "\n",
    "### General\n",
    "Markdown mathematical symbols, LKS90 Github, https://gist.github.com/LKS90/252ac41bd4a173be35b0 \n",
    "\n",
    "Markdown Guide, https://www.markdownguide.org/\n",
    "\n",
    "### sqrt2\n",
    "[1] A tour of Go; Exercise: Loops and Functions; https://tour.golang.org/flowcontrol/8\n",
    "\n",
    "[2] stackeoverflow, more decimal places needed in python; https://stackoverflow.com/questions/14057835/more-decimal-places-needed-in-python\n",
    "\n",
    "[3] repr(), Programiz, Python Tutorials; https://www.programiz.com/python-programming/methods/built-in/repr\n",
    "\n",
    "### chi squared\n",
    "[4] Chi-squared, wikipedia, https://en.wikipedia.org/wiki/Chi-squared_test"
   ]
  },
  {
   "cell_type": "code",
   "execution_count": null,
   "metadata": {},
   "outputs": [],
   "source": []
  }
 ],
 "metadata": {
  "kernelspec": {
   "display_name": "Python 3",
   "language": "python",
   "name": "python3"
  },
  "language_info": {
   "codemirror_mode": {
    "name": "ipython",
    "version": 3
   },
   "file_extension": ".py",
   "mimetype": "text/x-python",
   "name": "python",
   "nbconvert_exporter": "python",
   "pygments_lexer": "ipython3",
   "version": "3.8.3"
  }
 },
 "nbformat": 4,
 "nbformat_minor": 4
}
