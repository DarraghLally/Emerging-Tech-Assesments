{
 "cells": [
  {
   "cell_type": "markdown",
   "metadata": {},
   "source": [
    "***\n",
    "# Task Two\n",
    "***\n",
    "Below you will find my solution for the 'Chi-squared' task, an assessment for the Emerging Technology module delivered by Dr. Ian Mcloughlin.\n",
    "\n",
    "Author: Darragh Lally   \n",
    "GMIT ID: G00220290   \n",
    "Mail: g00220290@gmit.ie\n",
    "\n",
    "***\n",
    "### Chi-squared  $\\chi^2$\n",
    "***\n",
    "Our second task is to verify the Chi-squared value from a given table of data[1]. Published by Karl Pearson in 1900, it is considerd to be a 'founding stone' of moders statistics[1].\n",
    "\n",
    "#### Given Table -\n",
    "| | A | B | C | D | Total     \n",
    "| :------------- | :----------: | :-----------: | :-----------: | :-----------: | -----------: |\n",
    "|  White Collar | 90 | 60 | 104 | 95 | 349 |\n",
    "| Blue Collar | 30 | 50 | 51 | 20 | 151 |\n",
    "| No Collar | 30 | 40 | 45 | 35 | 150 |\n",
    "| Total | 150 | 150 | 200 | 150 | 650 |\n",
    "\n",
    "\n",
    "#### Value to be verified\n",
    "Approximately **24.6**\n"
   ]
  },
  {
   "cell_type": "code",
   "execution_count": 1,
   "metadata": {},
   "outputs": [
    {
     "name": "stdout",
     "output_type": "stream",
     "text": [
      "               A   B    C   D\n",
      "White Collar  90  60  104  95\n",
      "Blue Collar   30  50   51  20\n",
      "No collar     30  40   45  35\n"
     ]
    }
   ],
   "source": [
    "import numpy as np\n",
    "import pandas as pd\n",
    "import scipy.stats as stats\n",
    "\n",
    "cols = ['A', 'B', 'C', 'D']\n",
    "data = pd.DataFrame(columns=cols)\n",
    "\n",
    "data.loc['White Collar'] = [90, 60, 104, 95]\n",
    "data.loc['Blue Collar'] = [30, 50, 51, 20]\n",
    "data.loc['No collar'] = [30, 40, 45, 35]\n",
    "\n",
    "print(data)"
   ]
  },
  {
   "cell_type": "code",
   "execution_count": 2,
   "metadata": {},
   "outputs": [
    {
     "name": "stdout",
     "output_type": "stream",
     "text": [
      "P value for effect of area on proportion of each collar:\n",
      "0.0004098425861096696\n",
      "\n",
      "Expected numbers if area did not effect proportion of each collar:\n",
      "[[ 80.53846154  80.53846154 107.38461538  80.53846154]\n",
      " [ 34.84615385  34.84615385  46.46153846  34.84615385]\n",
      " [ 34.61538462  34.61538462  46.15384615  34.61538462]]\n"
     ]
    }
   ],
   "source": [
    "V, p, dof, expected = stats.chi2_contingency(data) \n",
    "# add correction=False for uncorrected Chi-square\n",
    "\n",
    "print ('P value for effect of area on proportion of each collar:')\n",
    "print (p)\n",
    "print ('\\nExpected numbers if area did not effect proportion of each collar:')\n",
    "print (expected)"
   ]
  },
  {
   "cell_type": "markdown",
   "metadata": {},
   "source": [
    "# References\n",
    "\n",
    "Markdown mathematical symbols, LKS90 Github, https://gist.github.com/LKS90/252ac41bd4a173be35b0 \n",
    "\n",
    "Markdown Guide, https://www.markdownguide.org/\n",
    "\n",
    "[1] Chi-squared, wikipedia, https://en.wikipedia.org/wiki/Chi-squared_test"
   ]
  }
 ],
 "metadata": {
  "kernelspec": {
   "display_name": "Python 3",
   "language": "python",
   "name": "python3"
  },
  "language_info": {
   "codemirror_mode": {
    "name": "ipython",
    "version": 3
   },
   "file_extension": ".py",
   "mimetype": "text/x-python",
   "name": "python",
   "nbconvert_exporter": "python",
   "pygments_lexer": "ipython3",
   "version": "3.8.3"
  }
 },
 "nbformat": 4,
 "nbformat_minor": 4
}
