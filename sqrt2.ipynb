{
 "cells": [
  {
   "cell_type": "markdown",
   "metadata": {},
   "source": [
    "***\n",
    "\n",
    "\n",
    "# Tasks\n",
    "\n",
    "\n",
    "***\n",
    "\n",
    "Below you will find my solutions for the tasks assessment within the Emerging Technology module delivered by Dr. Ian Mcloughlin.\n",
    "\n",
    "Author: Darragh Lally   \n",
    "GMIT ID: G00220290   \n",
    "Mail: g00220290@gmit.ie"
   ]
  },
  {
   "cell_type": "markdown",
   "metadata": {},
   "source": [
    "***\n",
    "\n",
    "### SQRT2\n",
    "\n",
    "***\n",
    "\n",
    "In the first of our tasks we are to create a python function that will compute and display the square root of 2, to 100 decimal places **without** using any extra imports, including but not limited to math.   \n",
    "\n",
    "\n",
    "Using Newton's Method we can calculate the square root of a number [1]. To find the square root $z$ of number $x$, we can loop using the following;   \n",
    "    \n",
    "$$ z_{next} = z - \\frac{z^2 - x}{2z} $$    \n",
    "\n",
    "\n",
    "[1] A tour of Go; Exercise: Loops and Functions; https://tour.golang.org/flowcontrol/8"
   ]
  },
  {
   "cell_type": "code",
   "execution_count": 1,
   "metadata": {},
   "outputs": [],
   "source": [
    "def sqrt2(x):\n",
    "    \"\"\"\n",
    "    A function to calculate the square root of a number. \n",
    "    \"\"\"\n",
    "    # Inital guess for sqrt of z\n",
    "    z = x / 2     \n",
    "    # Loop until happy with accuracy\n",
    "    while abs(x - (z * z)) > 0.001:\n",
    "        # Calculate a better guess\n",
    "        z -= (z*z - x) / (2*z)\n",
    "    # Return the approx square root of x\n",
    "    return z"
   ]
  },
  {
   "cell_type": "markdown",
   "metadata": {},
   "source": [
    "#### Testing"
   ]
  },
  {
   "cell_type": "code",
   "execution_count": 2,
   "metadata": {},
   "outputs": [
    {
     "data": {
      "text/plain": [
       "10.000046356507898"
      ]
     },
     "execution_count": 2,
     "metadata": {},
     "output_type": "execute_result"
    }
   ],
   "source": [
    "# Test function on 100\n",
    "sqrt2(100)"
   ]
  },
  {
   "cell_type": "code",
   "execution_count": 3,
   "metadata": {},
   "outputs": [
    {
     "data": {
      "text/plain": [
       "1.4142156862745099"
      ]
     },
     "execution_count": 3,
     "metadata": {},
     "output_type": "execute_result"
    }
   ],
   "source": [
    "# Test function on 2\n",
    "sqrt2(2)"
   ]
  },
  {
   "cell_type": "code",
   "execution_count": 4,
   "metadata": {},
   "outputs": [
    {
     "data": {
      "text/plain": [
       "1.4142135623730951"
      ]
     },
     "execution_count": 4,
     "metadata": {},
     "output_type": "execute_result"
    }
   ],
   "source": [
    "import math\n",
    "math.sqrt(2)"
   ]
  },
  {
   "cell_type": "code",
   "execution_count": null,
   "metadata": {},
   "outputs": [],
   "source": []
  }
 ],
 "metadata": {
  "kernelspec": {
   "display_name": "Python 3",
   "language": "python",
   "name": "python3"
  },
  "language_info": {
   "codemirror_mode": {
    "name": "ipython",
    "version": 3
   },
   "file_extension": ".py",
   "mimetype": "text/x-python",
   "name": "python",
   "nbconvert_exporter": "python",
   "pygments_lexer": "ipython3",
   "version": "3.8.3"
  }
 },
 "nbformat": 4,
 "nbformat_minor": 4
}
